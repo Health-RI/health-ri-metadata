import subprocess
import os

# Define paths
csv_file_path = 'path_to_your_csv_file.csv'  # Path to your CSV file
rml_mapping_path = 'path_to_your_rml_mapping_file.ttl'  # Path to your RML mapping file
output_ttl_path = 'output_data.ttl'  # Desired path for your output TTL file

# Command to run RMLMapper
# Update the path to the RMLMapper.jar file according to your installation
rmlmapper_command = [
    'java', '-jar', 'RMLMapper.jar',  # Replace 'RMLMapper.jar' with the path to your RMLMapper jar file
    '-m', rml_mapping_path,
    '-o', output_ttl_path,
    '-s', 'turtle'
]

# Running the command
try:
    subprocess.run(rmlmapper_command, check=True)
    print(f'Transformation complete. TTL file created at {output_ttl_path}')
except subprocess.CalledProcessError as e:
    print(f'An error occurred during the transformation: {e}')
