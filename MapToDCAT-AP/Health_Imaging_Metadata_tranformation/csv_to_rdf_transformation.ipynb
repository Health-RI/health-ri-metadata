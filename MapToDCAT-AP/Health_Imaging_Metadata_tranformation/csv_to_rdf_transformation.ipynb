{
 "cells": [
  {
   "cell_type": "code",
   "execution_count": null,
   "id": "5379d6c0",
   "metadata": {},
   "outputs": [],
   "source": [
    "# Import necessary libraries\n",
    "import pandas as pd\n",
    "from rdflib import Graph, Literal, RDF, URIRef\n",
    "from rdflib.namespace import XSD, DCTERMS, DCAT"
   ]
  },
  {
   "cell_type": "code",
   "execution_count": null,
   "id": "3699e069",
   "metadata": {},
   "outputs": [],
   "source": [
    "# Load the CSV file\n",
    "csv_file = 'path_to_your_csv_file.csv'  # Replace with the path to your CSV file\n",
    "data = pd.read_csv(csv_file, delimiter=';')  # Adjust delimiter if necessary\n",
    "data.head()"
   ]
  },
  {
   "cell_type": "code",
   "execution_count": null,
   "id": "cd89ac89",
   "metadata": {},
   "outputs": [],
   "source": [
    "# Initialize the RDF graph\n",
    "g = Graph()\n",
    "\n",
    "# Define namespaces\n",
    "DCTERMS = Namespace('http://purl.org/dc/terms/')\n",
    "DCAT = Namespace('http://www.w3.org/ns/dcat#')\n",
    "\n",
    "# Mapping and converting CSV data to RDF\n",
    "for index, row in data.iterrows():\n",
    "    subject = URIRef(f'http://example.org/patient/{row[\"patient_id\"]}')\n",
    "    g.add((subject, RDF.type, DCAT.Dataset))\n",
    "    g.add((subject, DCTERMS.identifier, Literal(row['patient_id'])))\n",
    "    g.add((subject, DCTERMS.date, Literal(row['study_date'], datatype=XSD.date)))\n",
    "    g.add((subject, DCAT.theme, Literal(row['modality'])))\n",
    "    g.add((subject, DCAT.keyword, Literal(row['body_part'])))\n",
    "    g.add((subject, DCTERMS.description, Literal(row['study_description'])))\n",
    "    g.add((subject, DCTERMS.title, Literal(row['series_description'])))\n",
    "    g.add((subject, DCAT.mediaType, Literal(row['image_type'])))\n",
    "\n",
    "# Save the graph to a TTL file\n",
    "g.serialize(destination='output_data.ttl', format='turtle')"
   ]
  }
 ],
 "metadata": {},
 "nbformat": 4,
 "nbformat_minor": 5
}
