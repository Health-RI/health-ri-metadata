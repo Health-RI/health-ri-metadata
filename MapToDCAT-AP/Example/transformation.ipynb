# Converting the notebook content to a Python script

python_script = """
# Import necessary libraries
import pandas as pd
from rdflib import Graph, Literal, RDF, URIRef
from rdflib.namespace import XSD, DCTERMS, DCAT

# Load the CSV file
csv_file = 'path_to_your_csv_file.csv'  # Replace with the path to your CSV file
data = pd.read_csv(csv_file, delimiter=';')  # Adjust delimiter if necessary
print(data.head())

# Initialize the RDF graph
g = Graph()

# Define namespaces
DCTERMS = Namespace('http://purl.org/dc/terms/')
DCAT = Namespace('http://www.w3.org/ns/dcat#')

# Mapping and converting CSV data to RDF
for index, row in data.iterrows():
    subject = URIRef(f'http://example.org/patient/{row["patient_id"]}')
    g.add((subject, RDF.type, DCAT.Dataset))
    g.add((subject, DCTERMS.identifier, Literal(row['patient_id'])))
    g.add((subject, DCTERMS.date, Literal(row['study_date'], datatype=XSD.date)))
    g.add((subject, DCAT.theme, Literal(row['modality'])))
    g.add((subject, DCAT.keyword, Literal(row['body_part'])))
    g.add((subject, DCTERMS.description, Literal(row['study_description'])))
    g.add((subject, DCTERMS.title, Literal(row['series_description'])))
    g.add((subject, DCAT.mediaType, Literal(row['image_type'])))

# Save the graph to a TTL file
g.serialize(destination='output_data.ttl', format='turtle')
"""

# Saving the script to a file
script_path = '/mnt/data/converted_script.py'
with open(script_path, 'w') as f:
    f.write(python_script)

script_path
